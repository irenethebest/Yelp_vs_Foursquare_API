{
 "cells": [
  {
   "cell_type": "code",
   "execution_count": 1,
   "metadata": {},
   "outputs": [],
   "source": [
    "import json\n",
    "import pandas as pd\n",
    "from pandas import json_normalize\n",
    "from pprint import pprint"
   ]
  },
  {
   "cell_type": "code",
   "execution_count": 2,
   "metadata": {},
   "outputs": [],
   "source": [
    "import sqlite3 \n",
    "from sqlite3 import Error\n",
    "\n",
    "def create_connection(path):\n",
    "    connection = None\n",
    "    try:\n",
    "        connection = sqlite3.connect(path)\n",
    "        print(\"Connection to SQLite DB successful\")\n",
    "    except Error as e:\n",
    "        print(f\"The error '{e}' occurred\")\n",
    "\n",
    "    return connection"
   ]
  },
  {
   "cell_type": "code",
   "execution_count": 3,
   "metadata": {},
   "outputs": [
    {
     "name": "stdout",
     "output_type": "stream",
     "text": [
      "Connection to SQLite DB successful\n"
     ]
    }
   ],
   "source": [
    "connection = create_connection(r\"C:\\Users\\Irene\\lighthouse-data-notes\\week2\\miniproject2\\data\\test.sqlite\")"
   ]
  },
  {
   "cell_type": "markdown",
   "metadata": {},
   "source": [
    "# Foursquare"
   ]
  },
  {
   "cell_type": "markdown",
   "metadata": {},
   "source": [
    "Send a request to Foursquare with a small radius (1000m) with the location of your choice"
   ]
  },
  {
   "cell_type": "code",
   "execution_count": 4,
   "metadata": {},
   "outputs": [
    {
     "name": "stdout",
     "output_type": "stream",
     "text": [
      "{'context': {'geo_bounds': {'circle': {'center': {'latitude': 39.703014,\n",
      "                                                  'longitude': -105.078792},\n",
      "                                       'radius': 1000}}},\n",
      " 'results': [{'categories': [{'icon': {'prefix': 'https://ss3.4sqi.net/img/categories_v2/shops/pet_store_',\n",
      "                                       'suffix': '.png'},\n",
      "                              'id': 17110,\n",
      "                              'name': 'Pet Supplies Store'}],\n",
      "              'chains': [{'id': '40ac1d6f-112b-4664-be82-8f563190b1c8',\n",
      "                          'name': 'Petco'}],\n",
      "              'distance': 621,\n",
      "              'fsq_id': '4c8c0541ed3ab60c04ea6321',\n",
      "              'geocodes': {'main': {'latitude': 39.707519,\n",
      "                                    'longitude': -105.08336},\n",
      "                           'roof': {'latitude': 39.707519,\n",
      "                                    'longitude': -105.08336}},\n",
      "              'link': '/v3/places/4c8c0541ed3ab60c04ea6321',\n",
      "              'location': {'address': '475 S Wadsworth Blvd',\n",
      "                           'census_block': '080590117014000',\n",
      "                           'country': 'US',\n",
      "                           'dma': 'Denver',\n",
      "                           'formatted_address': '475 S Wadsworth Blvd, '\n",
      "                                                'Lakewood, CO 80226',\n",
      "                           'locality': 'Lakewood',\n",
      "                           'neighborhood': ['Lakewood Center'],\n",
      "                           'postcode': '80226',\n",
      "                           'region': 'CO'},\n",
      "              'name': 'Petco',\n",
      "              'related_places': {},\n",
      "              'timezone': 'America/Denver'}]}\n"
     ]
    }
   ],
   "source": [
    "with open(r'C:\\Users\\Irene\\lighthouse-data-notes\\week2\\miniproject2\\data\\petstore_fs.json') as f:\n",
    "    fs = json.load(f)\n",
    "pprint (fs)"
   ]
  },
  {
   "cell_type": "markdown",
   "metadata": {},
   "source": [
    "Parse through the response to get the POI details you want (rating, name, location, etc)"
   ]
  },
  {
   "cell_type": "code",
   "execution_count": 5,
   "metadata": {},
   "outputs": [
    {
     "data": {
      "text/html": [
       "<div>\n",
       "<style scoped>\n",
       "    .dataframe tbody tr th:only-of-type {\n",
       "        vertical-align: middle;\n",
       "    }\n",
       "\n",
       "    .dataframe tbody tr th {\n",
       "        vertical-align: top;\n",
       "    }\n",
       "\n",
       "    .dataframe thead th {\n",
       "        text-align: right;\n",
       "    }\n",
       "</style>\n",
       "<table border=\"1\" class=\"dataframe\">\n",
       "  <thead>\n",
       "    <tr style=\"text-align: right;\">\n",
       "      <th></th>\n",
       "      <th>petstore_name</th>\n",
       "      <th>location_address</th>\n",
       "      <th>distance</th>\n",
       "    </tr>\n",
       "  </thead>\n",
       "  <tbody>\n",
       "    <tr>\n",
       "      <th>0</th>\n",
       "      <td>Petco</td>\n",
       "      <td>475 S Wadsworth Blvd, Lakewood, CO 80226</td>\n",
       "      <td>621</td>\n",
       "    </tr>\n",
       "  </tbody>\n",
       "</table>\n",
       "</div>"
      ],
      "text/plain": [
       "  petstore_name                          location_address  distance\n",
       "0         Petco  475 S Wadsworth Blvd, Lakewood, CO 80226       621"
      ]
     },
     "execution_count": 5,
     "metadata": {},
     "output_type": "execute_result"
    }
   ],
   "source": [
    "from pandas import json_normalize\n",
    "json_normalize(fs)\n",
    "results = json_normalize(fs, record_path='results')\n",
    "categories = json_normalize(fs['results'], record_path='categories', errors='ignore')\n",
    "\n",
    "results.rename(columns = {'name':'petstore_name', 'location.formatted_address':'location_address'}, \n",
    "               inplace = True)\n",
    "categories = json_normalize(fs['results'], record_path='categories', \n",
    "                            meta=['petstore_name','location_address'], errors='ignore')\n",
    "\n",
    "fs_pet_results = results[['petstore_name','location_address', 'distance']]\n",
    "fs_pet_results.head()"
   ]
  },
  {
   "cell_type": "code",
   "execution_count": 6,
   "metadata": {},
   "outputs": [],
   "source": [
    "categorylist = []\n",
    "for i in range(len(results['petstore_name'])):\n",
    "    categorylist.append(fs['results'][i]['categories'][0]['name'])\n",
    "\n",
    "cat_list = pd.DataFrame(categorylist)\n",
    "cat_list.columns = ['category']"
   ]
  },
  {
   "cell_type": "markdown",
   "metadata": {},
   "source": [
    "Put your parsed results into a DataFrame"
   ]
  },
  {
   "cell_type": "code",
   "execution_count": 7,
   "metadata": {},
   "outputs": [
    {
     "data": {
      "text/html": [
       "<div>\n",
       "<style scoped>\n",
       "    .dataframe tbody tr th:only-of-type {\n",
       "        vertical-align: middle;\n",
       "    }\n",
       "\n",
       "    .dataframe tbody tr th {\n",
       "        vertical-align: top;\n",
       "    }\n",
       "\n",
       "    .dataframe thead th {\n",
       "        text-align: right;\n",
       "    }\n",
       "</style>\n",
       "<table border=\"1\" class=\"dataframe\">\n",
       "  <thead>\n",
       "    <tr style=\"text-align: right;\">\n",
       "      <th></th>\n",
       "      <th>petstore_name</th>\n",
       "      <th>location_address</th>\n",
       "      <th>distance</th>\n",
       "      <th>category</th>\n",
       "    </tr>\n",
       "  </thead>\n",
       "  <tbody>\n",
       "    <tr>\n",
       "      <th>0</th>\n",
       "      <td>Petco</td>\n",
       "      <td>475 S Wadsworth Blvd, Lakewood, CO 80226</td>\n",
       "      <td>621</td>\n",
       "      <td>Pet Supplies Store</td>\n",
       "    </tr>\n",
       "  </tbody>\n",
       "</table>\n",
       "</div>"
      ],
      "text/plain": [
       "  petstore_name                          location_address  distance  \\\n",
       "0         Petco  475 S Wadsworth Blvd, Lakewood, CO 80226       621   \n",
       "\n",
       "             category  \n",
       "0  Pet Supplies Store  "
      ]
     },
     "execution_count": 7,
     "metadata": {},
     "output_type": "execute_result"
    }
   ],
   "source": [
    "pets_fs = pd.concat([fs_pet_results, cat_list], axis=1, join='inner')\n",
    "pets_fs.sort_values(by = 'distance')"
   ]
  },
  {
   "cell_type": "code",
   "execution_count": 8,
   "metadata": {},
   "outputs": [],
   "source": [
    "pets_fs['petstore_name'] = pets_fs['petstore_name'].astype('str')\n",
    "pets_fs['location_address'] = pets_fs['location_address'].astype('str')\n"
   ]
  },
  {
   "cell_type": "markdown",
   "metadata": {},
   "source": [
    "# Yelp"
   ]
  },
  {
   "cell_type": "markdown",
   "metadata": {},
   "source": [
    "Send a request with the same location paramaters (location, radius, etc)"
   ]
  },
  {
   "cell_type": "code",
   "execution_count": 9,
   "metadata": {
    "scrolled": true
   },
   "outputs": [
    {
     "name": "stdout",
     "output_type": "stream",
     "text": [
      "{'businesses': [{'alias': 'petco-lakewood',\n",
      "                 'categories': [{'alias': 'petstore', 'title': 'Pet Stores'},\n",
      "                                {'alias': 'groomer', 'title': 'Pet Groomers'},\n",
      "                                {'alias': 'pet_training',\n",
      "                                 'title': 'Pet Training'}],\n",
      "                 'coordinates': {'latitude': 39.7075, 'longitude': -105.0815},\n",
      "                 'display_phone': '(303) 985-0050',\n",
      "                 'distance': 549.9889720383354,\n",
      "                 'id': '08DAVrQimvbBIzm29xMv3w',\n",
      "                 'image_url': 'https://s3-media2.fl.yelpcdn.com/bphoto/pJ9zHU4IsfgswfMBH-mz0A/o.jpg',\n",
      "                 'is_closed': False,\n",
      "                 'location': {'address1': '475 S Wadsworth',\n",
      "                              'address2': '',\n",
      "                              'address3': '',\n",
      "                              'city': 'Lakewood',\n",
      "                              'country': 'US',\n",
      "                              'display_address': ['475 S Wadsworth',\n",
      "                                                  'Lakewood, CO 80226'],\n",
      "                              'state': 'CO',\n",
      "                              'zip_code': '80226'},\n",
      "                 'name': 'Petco',\n",
      "                 'phone': '+13039850050',\n",
      "                 'rating': 2.5,\n",
      "                 'review_count': 58,\n",
      "                 'transactions': [],\n",
      "                 'url': 'https://www.yelp.com/biz/petco-lakewood?adjust_creative=rrEafIiRVnBlImwZWjye3Q&utm_campaign=yelp_api_v3&utm_medium=api_v3_business_search&utm_source=rrEafIiRVnBlImwZWjye3Q'}],\n",
      " 'region': {'center': {'latitude': 39.703014, 'longitude': -105.078792}},\n",
      " 'total': 1}\n"
     ]
    }
   ],
   "source": [
    "with open(r'C:\\Users\\Irene\\lighthouse-data-notes\\week2\\miniproject2\\data\\petstore_yelp.json') as y:\n",
    "    yelp = json.load(y)\n",
    "pprint (yelp)"
   ]
  },
  {
   "cell_type": "markdown",
   "metadata": {},
   "source": [
    "Parse through your result and get POI details"
   ]
  },
  {
   "cell_type": "code",
   "execution_count": 10,
   "metadata": {},
   "outputs": [
    {
     "data": {
      "text/html": [
       "<div>\n",
       "<style scoped>\n",
       "    .dataframe tbody tr th:only-of-type {\n",
       "        vertical-align: middle;\n",
       "    }\n",
       "\n",
       "    .dataframe tbody tr th {\n",
       "        vertical-align: top;\n",
       "    }\n",
       "\n",
       "    .dataframe thead th {\n",
       "        text-align: right;\n",
       "    }\n",
       "</style>\n",
       "<table border=\"1\" class=\"dataframe\">\n",
       "  <thead>\n",
       "    <tr style=\"text-align: right;\">\n",
       "      <th></th>\n",
       "      <th>petstore_name</th>\n",
       "      <th>location_address</th>\n",
       "      <th>distance</th>\n",
       "      <th>rating</th>\n",
       "      <th>review_count</th>\n",
       "    </tr>\n",
       "  </thead>\n",
       "  <tbody>\n",
       "    <tr>\n",
       "      <th>0</th>\n",
       "      <td>Petco</td>\n",
       "      <td>[475 S Wadsworth, Lakewood, CO 80226]</td>\n",
       "      <td>549.988972</td>\n",
       "      <td>2.5</td>\n",
       "      <td>58</td>\n",
       "    </tr>\n",
       "  </tbody>\n",
       "</table>\n",
       "</div>"
      ],
      "text/plain": [
       "  petstore_name                       location_address    distance  rating  \\\n",
       "0         Petco  [475 S Wadsworth, Lakewood, CO 80226]  549.988972     2.5   \n",
       "\n",
       "   review_count  \n",
       "0            58  "
      ]
     },
     "execution_count": 10,
     "metadata": {},
     "output_type": "execute_result"
    }
   ],
   "source": [
    "from pandas import json_normalize\n",
    "json_normalize(yelp)\n",
    "results = json_normalize(yelp, record_path='businesses')\n",
    "results.rename(columns = {'name':'petstore_name', 'location.display_address':'location_address'}, \n",
    "               inplace = True)\n",
    "yelp_pet = results[['petstore_name','location_address','distance','rating','review_count']]\n",
    "yelp_pet"
   ]
  },
  {
   "cell_type": "code",
   "execution_count": 11,
   "metadata": {},
   "outputs": [],
   "source": [
    "categorylist = []\n",
    "for i in range(len(results['petstore_name'])):\n",
    "    categorylist.append(yelp['businesses'][i]['categories'][0]['title'])\n",
    "\n",
    "cat_list = pd.DataFrame(categorylist)\n",
    "cat_list.columns = ['category']"
   ]
  },
  {
   "cell_type": "markdown",
   "metadata": {},
   "source": [
    "Put your parsed results into a DataFrame"
   ]
  },
  {
   "cell_type": "code",
   "execution_count": 12,
   "metadata": {},
   "outputs": [
    {
     "data": {
      "text/html": [
       "<div>\n",
       "<style scoped>\n",
       "    .dataframe tbody tr th:only-of-type {\n",
       "        vertical-align: middle;\n",
       "    }\n",
       "\n",
       "    .dataframe tbody tr th {\n",
       "        vertical-align: top;\n",
       "    }\n",
       "\n",
       "    .dataframe thead th {\n",
       "        text-align: right;\n",
       "    }\n",
       "</style>\n",
       "<table border=\"1\" class=\"dataframe\">\n",
       "  <thead>\n",
       "    <tr style=\"text-align: right;\">\n",
       "      <th></th>\n",
       "      <th>petstore_name</th>\n",
       "      <th>location_address</th>\n",
       "      <th>distance</th>\n",
       "      <th>rating</th>\n",
       "      <th>review_count</th>\n",
       "      <th>category</th>\n",
       "    </tr>\n",
       "  </thead>\n",
       "  <tbody>\n",
       "    <tr>\n",
       "      <th>0</th>\n",
       "      <td>Petco</td>\n",
       "      <td>[475 S Wadsworth, Lakewood, CO 80226]</td>\n",
       "      <td>550.0</td>\n",
       "      <td>2.5</td>\n",
       "      <td>58</td>\n",
       "      <td>Pet Stores</td>\n",
       "    </tr>\n",
       "  </tbody>\n",
       "</table>\n",
       "</div>"
      ],
      "text/plain": [
       "  petstore_name                       location_address  distance  rating  \\\n",
       "0         Petco  [475 S Wadsworth, Lakewood, CO 80226]     550.0     2.5   \n",
       "\n",
       "   review_count    category  \n",
       "0            58  Pet Stores  "
      ]
     },
     "execution_count": 12,
     "metadata": {},
     "output_type": "execute_result"
    }
   ],
   "source": [
    "pets_yelp = pd.concat([yelp_pet, cat_list], axis=1, join='inner')\n",
    "pets_yelp['distance'] = round(pets_yelp['distance'])\n",
    "pets_yelp.sort_values(by = 'distance')\n"
   ]
  },
  {
   "cell_type": "code",
   "execution_count": 13,
   "metadata": {},
   "outputs": [],
   "source": [
    "pets_yelp['petstore_name'] = pets_yelp['petstore_name'].astype('str')\n",
    "pets_yelp['location_address'] = pets_yelp['location_address'].astype('str')\n"
   ]
  },
  {
   "cell_type": "markdown",
   "metadata": {},
   "source": [
    "# Database"
   ]
  },
  {
   "cell_type": "markdown",
   "metadata": {},
   "source": [
    "Put all your results in an SQLite3 database (remember, SQLite stores its databases as files in your local machine - make sure to create your database in your project's data/ directory!)"
   ]
  },
  {
   "cell_type": "code",
   "execution_count": 14,
   "metadata": {},
   "outputs": [
    {
     "data": {
      "text/html": [
       "<div>\n",
       "<style scoped>\n",
       "    .dataframe tbody tr th:only-of-type {\n",
       "        vertical-align: middle;\n",
       "    }\n",
       "\n",
       "    .dataframe tbody tr th {\n",
       "        vertical-align: top;\n",
       "    }\n",
       "\n",
       "    .dataframe thead th {\n",
       "        text-align: right;\n",
       "    }\n",
       "</style>\n",
       "<table border=\"1\" class=\"dataframe\">\n",
       "  <thead>\n",
       "    <tr style=\"text-align: right;\">\n",
       "      <th></th>\n",
       "      <th>petstore_name</th>\n",
       "      <th>location_address</th>\n",
       "      <th>distance</th>\n",
       "      <th>category</th>\n",
       "    </tr>\n",
       "  </thead>\n",
       "  <tbody>\n",
       "    <tr>\n",
       "      <th>0</th>\n",
       "      <td>Petco</td>\n",
       "      <td>475 S Wadsworth Blvd, Lakewood, CO 80226</td>\n",
       "      <td>621</td>\n",
       "      <td>Pet Supplies Store</td>\n",
       "    </tr>\n",
       "  </tbody>\n",
       "</table>\n",
       "</div>"
      ],
      "text/plain": [
       "  petstore_name                          location_address  distance  \\\n",
       "0         Petco  475 S Wadsworth Blvd, Lakewood, CO 80226       621   \n",
       "\n",
       "             category  \n",
       "0  Pet Supplies Store  "
      ]
     },
     "execution_count": 14,
     "metadata": {},
     "output_type": "execute_result"
    }
   ],
   "source": [
    "pets_fs.to_sql(name='pets_fs', con=connection, if_exists='replace', index=False)\n",
    "df_pets_fs = pd.read_sql('select * from pets_fs', connection)\n",
    "df_pets_fs"
   ]
  },
  {
   "cell_type": "code",
   "execution_count": 16,
   "metadata": {},
   "outputs": [
    {
     "data": {
      "text/html": [
       "<div>\n",
       "<style scoped>\n",
       "    .dataframe tbody tr th:only-of-type {\n",
       "        vertical-align: middle;\n",
       "    }\n",
       "\n",
       "    .dataframe tbody tr th {\n",
       "        vertical-align: top;\n",
       "    }\n",
       "\n",
       "    .dataframe thead th {\n",
       "        text-align: right;\n",
       "    }\n",
       "</style>\n",
       "<table border=\"1\" class=\"dataframe\">\n",
       "  <thead>\n",
       "    <tr style=\"text-align: right;\">\n",
       "      <th></th>\n",
       "      <th>petstore_name</th>\n",
       "      <th>location_address</th>\n",
       "      <th>distance</th>\n",
       "      <th>rating</th>\n",
       "      <th>review_count</th>\n",
       "      <th>category</th>\n",
       "    </tr>\n",
       "  </thead>\n",
       "  <tbody>\n",
       "    <tr>\n",
       "      <th>0</th>\n",
       "      <td>Petco</td>\n",
       "      <td>['475 S Wadsworth', 'Lakewood, CO 80226']</td>\n",
       "      <td>550.0</td>\n",
       "      <td>2.5</td>\n",
       "      <td>58</td>\n",
       "      <td>Pet Stores</td>\n",
       "    </tr>\n",
       "  </tbody>\n",
       "</table>\n",
       "</div>"
      ],
      "text/plain": [
       "  petstore_name                           location_address  distance  rating  \\\n",
       "0         Petco  ['475 S Wadsworth', 'Lakewood, CO 80226']     550.0     2.5   \n",
       "\n",
       "   review_count    category  \n",
       "0            58  Pet Stores  "
      ]
     },
     "execution_count": 16,
     "metadata": {},
     "output_type": "execute_result"
    }
   ],
   "source": [
    "pets_yelp.to_sql(name='pets_yelp', con=connection, if_exists='replace', index=False)\n",
    "df_pets_yelp = pd.read_sql('select * from pets_yelp', connection)\n",
    "df_pets_yelp"
   ]
  },
  {
   "cell_type": "markdown",
   "metadata": {},
   "source": [
    "Get the top 10 pet store according to their rating"
   ]
  },
  {
   "cell_type": "markdown",
   "metadata": {},
   "source": [
    "- There is only 1 pet store in the searched area"
   ]
  },
  {
   "cell_type": "code",
   "execution_count": null,
   "metadata": {},
   "outputs": [],
   "source": []
  }
 ],
 "metadata": {
  "kernelspec": {
   "display_name": "Python 3 (ipykernel)",
   "language": "python",
   "name": "python3"
  },
  "language_info": {
   "codemirror_mode": {
    "name": "ipython",
    "version": 3
   },
   "file_extension": ".py",
   "mimetype": "text/x-python",
   "name": "python",
   "nbconvert_exporter": "python",
   "pygments_lexer": "ipython3",
   "version": "3.9.7"
  }
 },
 "nbformat": 4,
 "nbformat_minor": 2
}

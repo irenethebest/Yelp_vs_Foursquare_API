{
 "cells": [
  {
   "cell_type": "code",
   "execution_count": 1,
   "metadata": {},
   "outputs": [],
   "source": [
    "import json\n",
    "import pandas as pd\n",
    "from pandas import json_normalize\n",
    "from pprint import pprint\n",
    "import sqlite3 \n",
    "conn = sqlite3.connect('test.sqlite')"
   ]
  },
  {
   "cell_type": "markdown",
   "metadata": {},
   "source": [
    "# Foursquare"
   ]
  },
  {
   "cell_type": "markdown",
   "metadata": {},
   "source": [
    "Send a request to Foursquare with a small radius (1000m) with the location of your choice"
   ]
  },
  {
   "cell_type": "code",
   "execution_count": 2,
   "metadata": {},
   "outputs": [
    {
     "name": "stdout",
     "output_type": "stream",
     "text": [
      "{'context': {'geo_bounds': {'circle': {'center': {'latitude': 39.703014,\n",
      "                                                  'longitude': -105.078792},\n",
      "                                       'radius': 1000}}},\n",
      " 'results': [{'categories': [{'icon': {'prefix': 'https://ss3.4sqi.net/img/categories_v2/parks_outdoors/park_',\n",
      "                                       'suffix': '.png'},\n",
      "                              'id': 16032,\n",
      "                              'name': 'Park'}],\n",
      "              'chains': [],\n",
      "              'distance': 312,\n",
      "              'fsq_id': '4ed022f89a52262b82749115',\n",
      "              'geocodes': {'main': {'latitude': 39.704233,\n",
      "                                    'longitude': -105.08234},\n",
      "                           'roof': {'latitude': 39.704233,\n",
      "                                    'longitude': -105.08234}},\n",
      "              'link': '/v3/places/4ed022f89a52262b82749115',\n",
      "              'location': {'census_block': '080590117014002',\n",
      "                           'country': 'US',\n",
      "                           'cross_street': '',\n",
      "                           'dma': 'Denver',\n",
      "                           'formatted_address': 'Lakewood, CO 80226',\n",
      "                           'locality': 'Lakewood',\n",
      "                           'neighborhood': ['Lakewood Center'],\n",
      "                           'postcode': '80226',\n",
      "                           'region': 'CO'},\n",
      "              'name': 'Bell Mar Park',\n",
      "              'related_places': {},\n",
      "              'timezone': 'America/Denver'},\n",
      "             {'categories': [{'icon': {'prefix': 'https://ss3.4sqi.net/img/categories_v2/parks_outdoors/park_',\n",
      "                                       'suffix': '.png'},\n",
      "                              'id': 16032,\n",
      "                              'name': 'Park'}],\n",
      "              'chains': [],\n",
      "              'distance': 622,\n",
      "              'fsq_id': '55f4479f498ec2e37d6a5a6c',\n",
      "              'geocodes': {'main': {'latitude': 39.708467,\n",
      "                                    'longitude': -105.080961},\n",
      "                           'roof': {'latitude': 39.708467,\n",
      "                                    'longitude': -105.080961}},\n",
      "              'link': '/v3/places/55f4479f498ec2e37d6a5a6c',\n",
      "              'location': {'census_block': '080590118071003',\n",
      "                           'country': 'US',\n",
      "                           'cross_street': '',\n",
      "                           'dma': 'Denver',\n",
      "                           'formatted_address': 'Lakewood, CO 80226',\n",
      "                           'locality': 'Lakewood',\n",
      "                           'neighborhood': ['Belmar District'],\n",
      "                           'postcode': '80226',\n",
      "                           'region': 'CO'},\n",
      "              'name': 'Belmar Park Running Trail',\n",
      "              'related_places': {},\n",
      "              'timezone': 'America/Denver'},\n",
      "             {'categories': [{'icon': {'prefix': 'https://ss3.4sqi.net/img/categories_v2/parks_outdoors/park_',\n",
      "                                       'suffix': '.png'},\n",
      "                              'id': 16032,\n",
      "                              'name': 'Park'}],\n",
      "              'chains': [],\n",
      "              'distance': 964,\n",
      "              'fsq_id': '550e0c1b498e069e34c85384',\n",
      "              'geocodes': {'main': {'latitude': 39.694795,\n",
      "                                    'longitude': -105.075485}},\n",
      "              'link': '/v3/places/550e0c1b498e069e34c85384',\n",
      "              'location': {'census_block': '080590118034001',\n",
      "                           'country': 'US',\n",
      "                           'cross_street': '',\n",
      "                           'dma': 'Denver',\n",
      "                           'formatted_address': 'Lakewood, CO 80232',\n",
      "                           'locality': 'Lakewood',\n",
      "                           'postcode': '80232',\n",
      "                           'region': 'CO'},\n",
      "              'name': 'Skate Street Skate Park',\n",
      "              'related_places': {},\n",
      "              'timezone': 'America/Denver'},\n",
      "             {'categories': [{'icon': {'prefix': 'https://ss3.4sqi.net/img/categories_v2/parks_outdoors/park_',\n",
      "                                       'suffix': '.png'},\n",
      "                              'id': 16032,\n",
      "                              'name': 'Park'}],\n",
      "              'chains': [],\n",
      "              'distance': 362,\n",
      "              'fsq_id': 'cc93db1884d045d852171660',\n",
      "              'geocodes': {'main': {'latitude': 39.704542,\n",
      "                                    'longitude': -105.082536},\n",
      "                           'roof': {'latitude': 39.704542,\n",
      "                                    'longitude': -105.082536}},\n",
      "              'link': '/v3/places/cc93db1884d045d852171660',\n",
      "              'location': {'address': '777 S Wadsworth Blvd',\n",
      "                           'census_block': '080590117014002',\n",
      "                           'country': 'US',\n",
      "                           'dma': 'Denver',\n",
      "                           'formatted_address': '777 S Wadsworth Blvd, '\n",
      "                                                'Lakewood, CO 80226',\n",
      "                           'locality': 'Lakewood',\n",
      "                           'neighborhood': ['Lakewood Center'],\n",
      "                           'postcode': '80226',\n",
      "                           'region': 'CO'},\n",
      "              'name': 'Lakewood Recreation Department',\n",
      "              'related_places': {}},\n",
      "             {'categories': [{'icon': {'prefix': 'https://ss3.4sqi.net/img/categories_v2/parks_outdoors/dogrun_',\n",
      "                                       'suffix': '.png'},\n",
      "                              'id': 16033,\n",
      "                              'name': 'Dog Park'}],\n",
      "              'chains': [],\n",
      "              'distance': 364,\n",
      "              'fsq_id': '4c4080bace54e21ee094091a',\n",
      "              'geocodes': {'main': {'latitude': 39.704692,\n",
      "                                    'longitude': -105.075327},\n",
      "                           'roof': {'latitude': 39.704692,\n",
      "                                    'longitude': -105.075327}},\n",
      "              'link': '/v3/places/4c4080bace54e21ee094091a',\n",
      "              'location': {'address': '501 S Teller Ct',\n",
      "                           'address_extended': '# 549',\n",
      "                           'census_block': '080590118082000',\n",
      "                           'country': 'US',\n",
      "                           'cross_street': '',\n",
      "                           'dma': 'Denver',\n",
      "                           'formatted_address': '501 S Teller Ct, Lakewood, CO '\n",
      "                                                '80226',\n",
      "                           'locality': 'Lakewood',\n",
      "                           'neighborhood': ['Belmar District'],\n",
      "                           'postcode': '80226',\n",
      "                           'region': 'CO'},\n",
      "              'name': 'Belmar Dog Park',\n",
      "              'related_places': {},\n",
      "              'timezone': 'America/Denver'}]}\n"
     ]
    }
   ],
   "source": [
    "\n",
    "with open('parks_fs.json') as f:\n",
    "    fs = json.load(f)\n",
    "pprint (fs)"
   ]
  },
  {
   "cell_type": "markdown",
   "metadata": {},
   "source": [
    "Parse through the response to get the POI details you want (rating, name, location, etc)"
   ]
  },
  {
   "cell_type": "code",
   "execution_count": 3,
   "metadata": {},
   "outputs": [
    {
     "data": {
      "text/html": [
       "<div>\n",
       "<style scoped>\n",
       "    .dataframe tbody tr th:only-of-type {\n",
       "        vertical-align: middle;\n",
       "    }\n",
       "\n",
       "    .dataframe tbody tr th {\n",
       "        vertical-align: top;\n",
       "    }\n",
       "\n",
       "    .dataframe thead th {\n",
       "        text-align: right;\n",
       "    }\n",
       "</style>\n",
       "<table border=\"1\" class=\"dataframe\">\n",
       "  <thead>\n",
       "    <tr style=\"text-align: right;\">\n",
       "      <th></th>\n",
       "      <th>park_name</th>\n",
       "      <th>location_address</th>\n",
       "      <th>distance</th>\n",
       "    </tr>\n",
       "  </thead>\n",
       "  <tbody>\n",
       "    <tr>\n",
       "      <th>0</th>\n",
       "      <td>Bell Mar Park</td>\n",
       "      <td>Lakewood, CO 80226</td>\n",
       "      <td>312</td>\n",
       "    </tr>\n",
       "    <tr>\n",
       "      <th>1</th>\n",
       "      <td>Belmar Park Running Trail</td>\n",
       "      <td>Lakewood, CO 80226</td>\n",
       "      <td>622</td>\n",
       "    </tr>\n",
       "    <tr>\n",
       "      <th>2</th>\n",
       "      <td>Skate Street Skate Park</td>\n",
       "      <td>Lakewood, CO 80232</td>\n",
       "      <td>964</td>\n",
       "    </tr>\n",
       "    <tr>\n",
       "      <th>3</th>\n",
       "      <td>Lakewood Recreation Department</td>\n",
       "      <td>777 S Wadsworth Blvd, Lakewood, CO 80226</td>\n",
       "      <td>362</td>\n",
       "    </tr>\n",
       "    <tr>\n",
       "      <th>4</th>\n",
       "      <td>Belmar Dog Park</td>\n",
       "      <td>501 S Teller Ct, Lakewood, CO 80226</td>\n",
       "      <td>364</td>\n",
       "    </tr>\n",
       "  </tbody>\n",
       "</table>\n",
       "</div>"
      ],
      "text/plain": [
       "                        park_name                          location_address  \\\n",
       "0                   Bell Mar Park                        Lakewood, CO 80226   \n",
       "1       Belmar Park Running Trail                        Lakewood, CO 80226   \n",
       "2         Skate Street Skate Park                        Lakewood, CO 80232   \n",
       "3  Lakewood Recreation Department  777 S Wadsworth Blvd, Lakewood, CO 80226   \n",
       "4                 Belmar Dog Park       501 S Teller Ct, Lakewood, CO 80226   \n",
       "\n",
       "   distance  \n",
       "0       312  \n",
       "1       622  \n",
       "2       964  \n",
       "3       362  \n",
       "4       364  "
      ]
     },
     "execution_count": 3,
     "metadata": {},
     "output_type": "execute_result"
    }
   ],
   "source": [
    "from pandas import json_normalize\n",
    "json_normalize(fs)\n",
    "results = json_normalize(fs, record_path='results')\n",
    "categories = json_normalize(fs['results'], record_path='categories', errors='ignore')\n",
    "\n",
    "results.rename(columns = {'name':'park_name', 'location.formatted_address':'location_address'}, \n",
    "               inplace = True)\n",
    "categories = json_normalize(fs['results'], record_path='categories', \n",
    "                            meta=['park_name','location_address'], errors='ignore')\n",
    "\n",
    "fs_park_results = results[['park_name','location_address', 'distance']]\n",
    "fs_park_results.head()"
   ]
  },
  {
   "cell_type": "code",
   "execution_count": 4,
   "metadata": {},
   "outputs": [],
   "source": [
    "categorylist = []\n",
    "for i in range(len(results['park_name'])):\n",
    "    categorylist.append(fs['results'][i]['categories'][0]['name'])\n",
    "\n",
    "cat_list = pd.DataFrame(categorylist)\n",
    "cat_list.columns = ['category']"
   ]
  },
  {
   "cell_type": "markdown",
   "metadata": {},
   "source": [
    "Put your parsed results into a DataFrame"
   ]
  },
  {
   "cell_type": "code",
   "execution_count": 5,
   "metadata": {},
   "outputs": [
    {
     "data": {
      "text/html": [
       "<div>\n",
       "<style scoped>\n",
       "    .dataframe tbody tr th:only-of-type {\n",
       "        vertical-align: middle;\n",
       "    }\n",
       "\n",
       "    .dataframe tbody tr th {\n",
       "        vertical-align: top;\n",
       "    }\n",
       "\n",
       "    .dataframe thead th {\n",
       "        text-align: right;\n",
       "    }\n",
       "</style>\n",
       "<table border=\"1\" class=\"dataframe\">\n",
       "  <thead>\n",
       "    <tr style=\"text-align: right;\">\n",
       "      <th></th>\n",
       "      <th>park_name</th>\n",
       "      <th>location_address</th>\n",
       "      <th>distance</th>\n",
       "      <th>category</th>\n",
       "    </tr>\n",
       "  </thead>\n",
       "  <tbody>\n",
       "    <tr>\n",
       "      <th>0</th>\n",
       "      <td>Bell Mar Park</td>\n",
       "      <td>Lakewood, CO 80226</td>\n",
       "      <td>312</td>\n",
       "      <td>Park</td>\n",
       "    </tr>\n",
       "    <tr>\n",
       "      <th>3</th>\n",
       "      <td>Lakewood Recreation Department</td>\n",
       "      <td>777 S Wadsworth Blvd, Lakewood, CO 80226</td>\n",
       "      <td>362</td>\n",
       "      <td>Park</td>\n",
       "    </tr>\n",
       "    <tr>\n",
       "      <th>4</th>\n",
       "      <td>Belmar Dog Park</td>\n",
       "      <td>501 S Teller Ct, Lakewood, CO 80226</td>\n",
       "      <td>364</td>\n",
       "      <td>Dog Park</td>\n",
       "    </tr>\n",
       "    <tr>\n",
       "      <th>1</th>\n",
       "      <td>Belmar Park Running Trail</td>\n",
       "      <td>Lakewood, CO 80226</td>\n",
       "      <td>622</td>\n",
       "      <td>Park</td>\n",
       "    </tr>\n",
       "    <tr>\n",
       "      <th>2</th>\n",
       "      <td>Skate Street Skate Park</td>\n",
       "      <td>Lakewood, CO 80232</td>\n",
       "      <td>964</td>\n",
       "      <td>Park</td>\n",
       "    </tr>\n",
       "  </tbody>\n",
       "</table>\n",
       "</div>"
      ],
      "text/plain": [
       "                        park_name                          location_address  \\\n",
       "0                   Bell Mar Park                        Lakewood, CO 80226   \n",
       "3  Lakewood Recreation Department  777 S Wadsworth Blvd, Lakewood, CO 80226   \n",
       "4                 Belmar Dog Park       501 S Teller Ct, Lakewood, CO 80226   \n",
       "1       Belmar Park Running Trail                        Lakewood, CO 80226   \n",
       "2         Skate Street Skate Park                        Lakewood, CO 80232   \n",
       "\n",
       "   distance  category  \n",
       "0       312      Park  \n",
       "3       362      Park  \n",
       "4       364  Dog Park  \n",
       "1       622      Park  \n",
       "2       964      Park  "
      ]
     },
     "execution_count": 5,
     "metadata": {},
     "output_type": "execute_result"
    }
   ],
   "source": [
    "parks = pd.concat([fs_park_results, cat_list], axis=1, join='inner')\n",
    "parks.sort_values(by = 'distance')"
   ]
  },
  {
   "cell_type": "code",
   "execution_count": 6,
   "metadata": {},
   "outputs": [
    {
     "data": {
      "text/html": [
       "<div>\n",
       "<style scoped>\n",
       "    .dataframe tbody tr th:only-of-type {\n",
       "        vertical-align: middle;\n",
       "    }\n",
       "\n",
       "    .dataframe tbody tr th {\n",
       "        vertical-align: top;\n",
       "    }\n",
       "\n",
       "    .dataframe thead th {\n",
       "        text-align: right;\n",
       "    }\n",
       "</style>\n",
       "<table border=\"1\" class=\"dataframe\">\n",
       "  <thead>\n",
       "    <tr style=\"text-align: right;\">\n",
       "      <th></th>\n",
       "      <th>park_name</th>\n",
       "      <th>location_address</th>\n",
       "      <th>distance</th>\n",
       "      <th>category</th>\n",
       "    </tr>\n",
       "  </thead>\n",
       "  <tbody>\n",
       "    <tr>\n",
       "      <th>0</th>\n",
       "      <td>Bell Mar Park</td>\n",
       "      <td>Lakewood, CO 80226</td>\n",
       "      <td>312</td>\n",
       "      <td>Park</td>\n",
       "    </tr>\n",
       "    <tr>\n",
       "      <th>1</th>\n",
       "      <td>Belmar Park Running Trail</td>\n",
       "      <td>Lakewood, CO 80226</td>\n",
       "      <td>622</td>\n",
       "      <td>Park</td>\n",
       "    </tr>\n",
       "    <tr>\n",
       "      <th>2</th>\n",
       "      <td>Skate Street Skate Park</td>\n",
       "      <td>Lakewood, CO 80232</td>\n",
       "      <td>964</td>\n",
       "      <td>Park</td>\n",
       "    </tr>\n",
       "    <tr>\n",
       "      <th>3</th>\n",
       "      <td>Lakewood Recreation Department</td>\n",
       "      <td>777 S Wadsworth Blvd, Lakewood, CO 80226</td>\n",
       "      <td>362</td>\n",
       "      <td>Park</td>\n",
       "    </tr>\n",
       "    <tr>\n",
       "      <th>4</th>\n",
       "      <td>Belmar Dog Park</td>\n",
       "      <td>501 S Teller Ct, Lakewood, CO 80226</td>\n",
       "      <td>364</td>\n",
       "      <td>Dog Park</td>\n",
       "    </tr>\n",
       "  </tbody>\n",
       "</table>\n",
       "</div>"
      ],
      "text/plain": [
       "                        park_name                          location_address  \\\n",
       "0                   Bell Mar Park                        Lakewood, CO 80226   \n",
       "1       Belmar Park Running Trail                        Lakewood, CO 80226   \n",
       "2         Skate Street Skate Park                        Lakewood, CO 80232   \n",
       "3  Lakewood Recreation Department  777 S Wadsworth Blvd, Lakewood, CO 80226   \n",
       "4                 Belmar Dog Park       501 S Teller Ct, Lakewood, CO 80226   \n",
       "\n",
       "   distance  category  \n",
       "0       312      Park  \n",
       "1       622      Park  \n",
       "2       964      Park  \n",
       "3       362      Park  \n",
       "4       364  Dog Park  "
      ]
     },
     "execution_count": 6,
     "metadata": {},
     "output_type": "execute_result"
    }
   ],
   "source": [
    "parks['park_name'] = parks['park_name'].astype('str')\n",
    "parks['location_address'] = parks['location_address'].astype('str')\n",
    "parks.to_sql(name='parks_fs', con=conn, if_exists='replace', index=False)\n",
    "pd.read_sql('select * from parks_fs', conn)"
   ]
  },
  {
   "cell_type": "markdown",
   "metadata": {},
   "source": [
    "# Yelp"
   ]
  },
  {
   "cell_type": "markdown",
   "metadata": {},
   "source": [
    "Send a request with the same location paramaters (location, radius, etc)"
   ]
  },
  {
   "cell_type": "code",
   "execution_count": 7,
   "metadata": {},
   "outputs": [
    {
     "name": "stdout",
     "output_type": "stream",
     "text": [
      "{'businesses': [{'alias': 'belmar-park-lakewood',\n",
      "                 'categories': [{'alias': 'parks', 'title': 'Parks'}],\n",
      "                 'coordinates': {'latitude': 39.7041997113815,\n",
      "                                 'longitude': -105.087161511183},\n",
      "                 'display_phone': '(303) 987-7800',\n",
      "                 'distance': 728.0391226802858,\n",
      "                 'id': 'Dny5Xe5XNvjR6xESa2Ej0A',\n",
      "                 'image_url': 'https://s3-media3.fl.yelpcdn.com/bphoto/mv5zlINq0eRuMx6DPhibwQ/o.jpg',\n",
      "                 'is_closed': False,\n",
      "                 'location': {'address1': '801 S Yarrow St',\n",
      "                              'address2': '',\n",
      "                              'address3': '',\n",
      "                              'city': 'Lakewood',\n",
      "                              'country': 'US',\n",
      "                              'display_address': ['801 S Yarrow St',\n",
      "                                                  'Lakewood, CO 80226'],\n",
      "                              'state': 'CO',\n",
      "                              'zip_code': '80226'},\n",
      "                 'name': 'Belmar Park',\n",
      "                 'phone': '+13039877800',\n",
      "                 'rating': 4.0,\n",
      "                 'review_count': 9,\n",
      "                 'transactions': [],\n",
      "                 'url': 'https://www.yelp.com/biz/belmar-park-lakewood?adjust_creative=rrEafIiRVnBlImwZWjye3Q&utm_campaign=yelp_api_v3&utm_medium=api_v3_business_search&utm_source=rrEafIiRVnBlImwZWjye3Q'}],\n",
      " 'region': {'center': {'latitude': 39.703014, 'longitude': -105.078792}},\n",
      " 'total': 1}\n"
     ]
    }
   ],
   "source": [
    "with open('parks_yelp.json') as y:\n",
    "    yelp = json.load(y)\n",
    "pprint (yelp)"
   ]
  },
  {
   "cell_type": "markdown",
   "metadata": {},
   "source": [
    "Parse through your result and get POI details"
   ]
  },
  {
   "cell_type": "code",
   "execution_count": 8,
   "metadata": {},
   "outputs": [
    {
     "data": {
      "text/html": [
       "<div>\n",
       "<style scoped>\n",
       "    .dataframe tbody tr th:only-of-type {\n",
       "        vertical-align: middle;\n",
       "    }\n",
       "\n",
       "    .dataframe tbody tr th {\n",
       "        vertical-align: top;\n",
       "    }\n",
       "\n",
       "    .dataframe thead th {\n",
       "        text-align: right;\n",
       "    }\n",
       "</style>\n",
       "<table border=\"1\" class=\"dataframe\">\n",
       "  <thead>\n",
       "    <tr style=\"text-align: right;\">\n",
       "      <th></th>\n",
       "      <th>park_name</th>\n",
       "      <th>location_address</th>\n",
       "      <th>distance</th>\n",
       "      <th>rating</th>\n",
       "      <th>review_count</th>\n",
       "    </tr>\n",
       "  </thead>\n",
       "  <tbody>\n",
       "    <tr>\n",
       "      <th>0</th>\n",
       "      <td>Belmar Park</td>\n",
       "      <td>[801 S Yarrow St, Lakewood, CO 80226]</td>\n",
       "      <td>728.039123</td>\n",
       "      <td>4.0</td>\n",
       "      <td>9</td>\n",
       "    </tr>\n",
       "  </tbody>\n",
       "</table>\n",
       "</div>"
      ],
      "text/plain": [
       "     park_name                       location_address    distance  rating  \\\n",
       "0  Belmar Park  [801 S Yarrow St, Lakewood, CO 80226]  728.039123     4.0   \n",
       "\n",
       "   review_count  \n",
       "0             9  "
      ]
     },
     "execution_count": 8,
     "metadata": {},
     "output_type": "execute_result"
    }
   ],
   "source": [
    "from pandas import json_normalize\n",
    "json_normalize(yelp)\n",
    "results = json_normalize(yelp, record_path='businesses')\n",
    "results.rename(columns = {'name':'park_name', 'location.display_address':'location_address'}, \n",
    "               inplace = True)\n",
    "yelp_park = results[['park_name','location_address','distance','rating','review_count']]\n",
    "yelp_park"
   ]
  },
  {
   "cell_type": "code",
   "execution_count": 9,
   "metadata": {},
   "outputs": [],
   "source": [
    "categorylist = []\n",
    "for i in range(len(results['park_name'])):\n",
    "    categorylist.append(yelp['businesses'][i]['categories'][0]['title'])\n",
    "\n",
    "cat_list = pd.DataFrame(categorylist)\n",
    "cat_list.columns = ['category']"
   ]
  },
  {
   "cell_type": "markdown",
   "metadata": {},
   "source": [
    "Put your parsed results into a DataFrame"
   ]
  },
  {
   "cell_type": "code",
   "execution_count": 10,
   "metadata": {},
   "outputs": [
    {
     "data": {
      "text/html": [
       "<div>\n",
       "<style scoped>\n",
       "    .dataframe tbody tr th:only-of-type {\n",
       "        vertical-align: middle;\n",
       "    }\n",
       "\n",
       "    .dataframe tbody tr th {\n",
       "        vertical-align: top;\n",
       "    }\n",
       "\n",
       "    .dataframe thead th {\n",
       "        text-align: right;\n",
       "    }\n",
       "</style>\n",
       "<table border=\"1\" class=\"dataframe\">\n",
       "  <thead>\n",
       "    <tr style=\"text-align: right;\">\n",
       "      <th></th>\n",
       "      <th>park_name</th>\n",
       "      <th>location_address</th>\n",
       "      <th>distance</th>\n",
       "      <th>rating</th>\n",
       "      <th>review_count</th>\n",
       "      <th>category</th>\n",
       "    </tr>\n",
       "  </thead>\n",
       "  <tbody>\n",
       "    <tr>\n",
       "      <th>0</th>\n",
       "      <td>Belmar Park</td>\n",
       "      <td>[801 S Yarrow St, Lakewood, CO 80226]</td>\n",
       "      <td>728.0</td>\n",
       "      <td>4.0</td>\n",
       "      <td>9</td>\n",
       "      <td>Parks</td>\n",
       "    </tr>\n",
       "  </tbody>\n",
       "</table>\n",
       "</div>"
      ],
      "text/plain": [
       "     park_name                       location_address  distance  rating  \\\n",
       "0  Belmar Park  [801 S Yarrow St, Lakewood, CO 80226]     728.0     4.0   \n",
       "\n",
       "   review_count category  \n",
       "0             9    Parks  "
      ]
     },
     "execution_count": 10,
     "metadata": {},
     "output_type": "execute_result"
    }
   ],
   "source": [
    "parks = pd.concat([yelp_park, cat_list], axis=1, join='inner')\n",
    "parks['distance'] = round(parks['distance'])\n",
    "parks.sort_values(by = 'distance')\n"
   ]
  },
  {
   "cell_type": "code",
   "execution_count": 11,
   "metadata": {},
   "outputs": [
    {
     "data": {
      "text/html": [
       "<div>\n",
       "<style scoped>\n",
       "    .dataframe tbody tr th:only-of-type {\n",
       "        vertical-align: middle;\n",
       "    }\n",
       "\n",
       "    .dataframe tbody tr th {\n",
       "        vertical-align: top;\n",
       "    }\n",
       "\n",
       "    .dataframe thead th {\n",
       "        text-align: right;\n",
       "    }\n",
       "</style>\n",
       "<table border=\"1\" class=\"dataframe\">\n",
       "  <thead>\n",
       "    <tr style=\"text-align: right;\">\n",
       "      <th></th>\n",
       "      <th>park_name</th>\n",
       "      <th>location_address</th>\n",
       "      <th>distance</th>\n",
       "      <th>rating</th>\n",
       "      <th>review_count</th>\n",
       "      <th>category</th>\n",
       "    </tr>\n",
       "  </thead>\n",
       "  <tbody>\n",
       "    <tr>\n",
       "      <th>0</th>\n",
       "      <td>Belmar Park</td>\n",
       "      <td>['801 S Yarrow St', 'Lakewood, CO 80226']</td>\n",
       "      <td>728.0</td>\n",
       "      <td>4.0</td>\n",
       "      <td>9</td>\n",
       "      <td>Parks</td>\n",
       "    </tr>\n",
       "  </tbody>\n",
       "</table>\n",
       "</div>"
      ],
      "text/plain": [
       "     park_name                           location_address  distance  rating  \\\n",
       "0  Belmar Park  ['801 S Yarrow St', 'Lakewood, CO 80226']     728.0     4.0   \n",
       "\n",
       "   review_count category  \n",
       "0             9    Parks  "
      ]
     },
     "execution_count": 11,
     "metadata": {},
     "output_type": "execute_result"
    }
   ],
   "source": [
    "parks['park_name'] = parks['park_name'].astype('str')\n",
    "parks['location_address'] = parks['location_address'].astype('str')\n",
    "parks.to_sql(name='parks_yelp', con=conn, if_exists='replace', index=False)\n",
    "pd.read_sql('select * from parks_yelp', conn)"
   ]
  },
  {
   "cell_type": "markdown",
   "metadata": {},
   "source": [
    "# Google (stretch)"
   ]
  },
  {
   "cell_type": "markdown",
   "metadata": {},
   "source": [
    "Use the same process as the first two APIs"
   ]
  },
  {
   "cell_type": "markdown",
   "metadata": {},
   "source": [
    "# Database"
   ]
  },
  {
   "cell_type": "markdown",
   "metadata": {},
   "source": [
    "Put all your results in an SQLite3 database (remember, SQLite stores its databases as files in your local machine - make sure to create your database in your project's data/ directory!)"
   ]
  },
  {
   "cell_type": "code",
   "execution_count": null,
   "metadata": {},
   "outputs": [],
   "source": []
  },
  {
   "cell_type": "markdown",
   "metadata": {},
   "source": [
    "Get the top 10 restaurants according to their rating"
   ]
  },
  {
   "cell_type": "code",
   "execution_count": null,
   "metadata": {},
   "outputs": [],
   "source": []
  },
  {
   "cell_type": "markdown",
   "metadata": {},
   "source": [
    "# Travelling Salesman Problem (stretch)"
   ]
  },
  {
   "cell_type": "markdown",
   "metadata": {},
   "source": [
    "If you have time, follow the steps in the [ortools tutorial](https://developers.google.com/optimization/routing/tsp) using Google's [Directions API](https://developers.google.com/maps/documentation/directions/start)."
   ]
  },
  {
   "cell_type": "code",
   "execution_count": null,
   "metadata": {},
   "outputs": [],
   "source": []
  }
 ],
 "metadata": {
  "kernelspec": {
   "display_name": "Python 3 (ipykernel)",
   "language": "python",
   "name": "python3"
  },
  "language_info": {
   "codemirror_mode": {
    "name": "ipython",
    "version": 3
   },
   "file_extension": ".py",
   "mimetype": "text/x-python",
   "name": "python",
   "nbconvert_exporter": "python",
   "pygments_lexer": "ipython3",
   "version": "3.9.7"
  }
 },
 "nbformat": 4,
 "nbformat_minor": 2
}
